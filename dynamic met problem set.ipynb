{
 "cells": [
  {
   "cell_type": "code",
   "execution_count": 76,
   "id": "ee5645b0-f2ff-41e2-bc37-53cec9f1be67",
   "metadata": {},
   "outputs": [],
   "source": [
    "# question 4\n",
    "\n",
    "import numpy as np\n",
    "\n",
    "delta_z_km = np.array([0.5, 1, 1.5, 2, 2.5, 3, 3.5, 4, 4.5, 5, 5.5, 6])\n",
    "delta_z_m = 1000 * delta_z_km\n",
    "abs_vort = 5 * 10**(-5)"
   ]
  },
  {
   "cell_type": "code",
   "execution_count": 77,
   "id": "080ec43f-8656-4605-9922-118b4d9750a1",
   "metadata": {},
   "outputs": [
    {
     "name": "stdout",
     "output_type": "stream",
     "text": [
      "potential vorticity = 1.0000000000000001e-07\n",
      "potential vorticity = 5.0000000000000004e-08\n",
      "potential vorticity = 3.3333333333333334e-08\n",
      "potential vorticity = 2.5000000000000002e-08\n",
      "potential vorticity = 2e-08\n",
      "potential vorticity = 1.6666666666666667e-08\n",
      "potential vorticity = 1.4285714285714286e-08\n",
      "potential vorticity = 1.2500000000000001e-08\n",
      "potential vorticity = 1.1111111111111112e-08\n",
      "potential vorticity = 1e-08\n",
      "potential vorticity = 9.09090909090909e-09\n",
      "potential vorticity = 8.333333333333334e-09\n"
     ]
    }
   ],
   "source": [
    "for i in delta_z_m:\n",
    "    potential_vort = abs_vort / i  \n",
    "    print('potential vorticity =',potential_vort)"
   ]
  },
  {
   "cell_type": "code",
   "execution_count": 78,
   "id": "90684d4e-5cf7-448b-b95d-5e623ac1a405",
   "metadata": {},
   "outputs": [],
   "source": [
    "# question 5\n",
    "\n",
    "delta_z_km_5 = np.array([9.5, 9, 8.5, 8, 7.5, 7, 6.5])\n",
    "delta_z_m_5 = 1000 * delta_z_km_5"
   ]
  },
  {
   "cell_type": "code",
   "execution_count": 79,
   "id": "3656cc12-3dbc-4d3c-80ea-fe6fd6715aa5",
   "metadata": {},
   "outputs": [],
   "source": [
    "from math import radians\n",
    "\n",
    "omega = 7.2921 * 10**(-5)\n",
    "phi = 48"
   ]
  },
  {
   "cell_type": "code",
   "execution_count": 91,
   "id": "053cd04e-fcb9-4d57-89ea-8c5cd2cec538",
   "metadata": {},
   "outputs": [
    {
     "name": "stdout",
     "output_type": "stream",
     "text": [
      "relative vorticity =  -1.3381727637274123e-05\n",
      "relative vorticity =  -1.8381727637274123e-05\n",
      "relative vorticity =  -2.3381727637274122e-05\n",
      "relative vorticity =  -2.8381727637274122e-05\n",
      "relative vorticity =  -3.338172763727412e-05\n",
      "relative vorticity =  -3.838172763727412e-05\n",
      "relative vorticity =  -4.338172763727412e-05\n"
     ]
    }
   ],
   "source": [
    "f_c = 2 * omega * np.sin(radians(phi))\n",
    "pot_vort = 1 * 10**(-8)\n",
    "\n",
    "for i in delta_z_m_5:\n",
    "    relative_vort = (i * pot_vort) - f_c\n",
    "    print('relative vorticity = ',relative_vort)"
   ]
  },
  {
   "cell_type": "code",
   "execution_count": 92,
   "id": "be51f217-3857-477b-b6dc-4fd137612486",
   "metadata": {},
   "outputs": [
    {
     "data": {
      "text/plain": [
       "-8.381727637274124e-06"
      ]
     },
     "execution_count": 92,
     "metadata": {},
     "output_type": "execute_result"
    }
   ],
   "source": [
    "pot_vort * (10 * 1000) - f_c"
   ]
  },
  {
   "cell_type": "code",
   "execution_count": 81,
   "id": "01957464-7733-4d6b-a470-ff10169a23ad",
   "metadata": {},
   "outputs": [
    {
     "name": "stdout",
     "output_type": "stream",
     "text": [
      "change in relative vorticity = -4.9999999999999996e-06\n",
      "change in relative vorticity = -9.999999999999999e-06\n",
      "change in relative vorticity = -1.4999999999999999e-05\n",
      "change in relative vorticity = -1.9999999999999998e-05\n",
      "change in relative vorticity = -2.4999999999999998e-05\n",
      "change in relative vorticity = -2.9999999999999997e-05\n",
      "change in relative vorticity = -3.5e-05\n"
     ]
    }
   ],
   "source": [
    "f_c = 2 * omega * np.sin(radians(phi))\n",
    "pot_vort = 1 * 10**(-8)\n",
    "\n",
    "for i in delta_z_m_5:\n",
    "    relative_vort = (i * pot_vort) - f_c\n",
    "    old_rv = (10 * 1000) * pot_vort - f_c\n",
    "    change_rv = relative_vort - old_rv\n",
    "    print('change in relative vorticity =',change_rv)"
   ]
  },
  {
   "cell_type": "code",
   "execution_count": 18,
   "id": "1f7a9319-92b2-4566-a44c-49a7ecd7ec49",
   "metadata": {},
   "outputs": [
    {
     "data": {
      "text/plain": [
       "0.00021204379631676622"
      ]
     },
     "execution_count": 18,
     "metadata": {},
     "output_type": "execute_result"
    }
   ],
   "source": [
    "old_rv = (10 * 1000) * pot_vort - f_c\n",
    "old_rv"
   ]
  },
  {
   "cell_type": "code",
   "execution_count": 21,
   "id": "fb6549dd-3f1c-4099-8814-c7f1bcbf0731",
   "metadata": {},
   "outputs": [
    {
     "data": {
      "text/plain": [
       "-4.999999999999986e-06"
      ]
     },
     "execution_count": 21,
     "metadata": {},
     "output_type": "execute_result"
    }
   ],
   "source": [
    "new_rv = (9.5 * 1000) * pot_vort - f_c\n",
    "new_rv\n",
    "\n",
    "change_in_rv = new_rv - old_rv\n",
    "change_in_rv"
   ]
  },
  {
   "cell_type": "code",
   "execution_count": 22,
   "id": "949a1d35-24b2-40ae-95f7-82486694d86c",
   "metadata": {},
   "outputs": [
    {
     "data": {
      "text/plain": [
       "-0.00011204379631676621"
      ]
     },
     "execution_count": 22,
     "metadata": {},
     "output_type": "execute_result"
    }
   ],
   "source": [
    "f_c"
   ]
  },
  {
   "cell_type": "code",
   "execution_count": 93,
   "id": "a572e879-24ef-499f-bd9b-1c50d66b4722",
   "metadata": {},
   "outputs": [],
   "source": [
    "# question 2\n",
    "\n",
    "delta_u = np.array([50,50,50,50,50,20,20,20,20,20])\n",
    "delta_v = np.array([50,20,0,-20,-50,50,20,0,-20,-50])\n",
    "dx = 300 * 1000\n",
    "dy = 600 * 1000"
   ]
  },
  {
   "cell_type": "code",
   "execution_count": 94,
   "id": "8fc69090-8bbd-4ea8-b5e8-df033bc2d2ad",
   "metadata": {},
   "outputs": [],
   "source": [
    "du_dy = []\n",
    "\n",
    "for du in delta_u:\n",
    "    relative_vort_du_dy = du/dy\n",
    "    du_dy.append(du/dy)\n",
    "\n",
    "du_dy_arr = np.array(du_dy)"
   ]
  },
  {
   "cell_type": "code",
   "execution_count": 95,
   "id": "ebf2fae9-3487-4c28-80e3-1c4aff0d0fd5",
   "metadata": {},
   "outputs": [],
   "source": [
    "dv_dx = []\n",
    "\n",
    "for dv in delta_v:\n",
    "    relative_vort_dv_dx = dv/dx\n",
    "    dv_dx.append(dv/dx)\n",
    "    \n",
    "dv_dx_arr = np.array(dv_dx)"
   ]
  },
  {
   "cell_type": "code",
   "execution_count": 96,
   "id": "5f1517b0-2a62-417d-b2d7-c0fb6c640c40",
   "metadata": {},
   "outputs": [
    {
     "name": "stdout",
     "output_type": "stream",
     "text": [
      "relative vorticity = 8.333333333333333e-05\n",
      "relative vorticity = -1.666666666666666e-05\n",
      "relative vorticity = -8.333333333333333e-05\n",
      "relative vorticity = -0.00015000000000000001\n",
      "relative vorticity = -0.00025\n",
      "relative vorticity = 0.00013333333333333334\n",
      "relative vorticity = 3.3333333333333335e-05\n",
      "relative vorticity = -3.3333333333333335e-05\n",
      "relative vorticity = -0.0001\n",
      "relative vorticity = -0.00019999999999999998\n"
     ]
    }
   ],
   "source": [
    "relative_vort = dv_dx_arr - du_dy_arr\n",
    "\n",
    "for i in relative_vort:\n",
    "    print('relative vorticity =',i)"
   ]
  },
  {
   "cell_type": "code",
   "execution_count": 71,
   "id": "c9f1070d-c4be-4afc-83e2-fb80edc34825",
   "metadata": {},
   "outputs": [
    {
     "name": "stdout",
     "output_type": "stream",
     "text": [
      "absolute vorticity = 0.000195842\n",
      "absolute vorticity = 0.00019528702715909636\n",
      "absolute vorticity = 0.00019362633231480644\n",
      "absolute vorticity = 0.0001908725543576503\n",
      "absolute vorticity = 0.00018704665120065843\n",
      "absolute vorticity = 0.0001821777402769991\n",
      "absolute vorticity = 0.00017630287693873008\n",
      "absolute vorticity = 0.00016946677244319513\n",
      "absolute vorticity = 0.000161721453673358\n",
      "absolute vorticity = 0.00015312586718180848\n",
      "absolute vorticity = 0.00014374543057190428\n",
      "absolute vorticity = 0.00013365153463030927\n"
     ]
    }
   ],
   "source": [
    "# question 3\n",
    "from math import radians\n",
    "\n",
    "relative_vort = 5 * 10**(-5)\n",
    "latitudes = np.array([90,85,80,75,70,65,60,55,50,45,40,35])\n",
    "\n",
    "for i in latitudes:\n",
    "    abs_vort = relative_vort + (2 * omega * np.sin(radians(i)))\n",
    "    print('absolute vorticity =', abs_vort)"
   ]
  },
  {
   "cell_type": "code",
   "execution_count": 101,
   "id": "7c839430-e383-4a3c-aaa0-42657f5b5a16",
   "metadata": {},
   "outputs": [
    {
     "name": "stdout",
     "output_type": "stream",
     "text": [
      "-3.532937515733238\n",
      "-2.9682687228350346\n",
      "-1.2728901029459507\n",
      "1.5573411320485206\n",
      "5.529417225363261\n",
      "10.653313803071626\n",
      "16.94218255740077\n",
      "24.412608153336294\n",
      "33.084936814679565\n",
      "42.983686393325684\n",
      "54.138050560839815\n",
      "66.58251324925652\n",
      "80.35759382387153\n",
      "95.51074898077815\n"
     ]
    }
   ],
   "source": [
    "# question 1\n",
    "\n",
    "from math import radians\n",
    "\n",
    "a = 6378.1 * 1000\n",
    "latitudes = np.array([0, 2, 4, 6, 8, 10, 12, 14, 16, 18, 20, 22, 24, 26])\n",
    "\n",
    "for i in latitudes:\n",
    "    u = (omega * a * (np.cos(radians(5))**2) / np.cos(radians(i))) - omega * a * np.cos(radians(i))\n",
    "    print(u)"
   ]
  },
  {
   "cell_type": "code",
   "execution_count": 13,
   "id": "44f19ac4-28e7-4f4d-b561-b505b72e6478",
   "metadata": {},
   "outputs": [
    {
     "data": {
      "text/plain": [
       "-0.00011204379631676621"
      ]
     },
     "execution_count": 13,
     "metadata": {},
     "output_type": "execute_result"
    }
   ],
   "source": [
    "2 * omega * np.sin(phi)"
   ]
  },
  {
   "cell_type": "code",
   "execution_count": 33,
   "id": "64f573dd-87c1-4592-838f-07a2b7d03a05",
   "metadata": {},
   "outputs": [
    {
     "data": {
      "text/plain": [
       "0.8939966636005579"
      ]
     },
     "execution_count": 33,
     "metadata": {},
     "output_type": "execute_result"
    }
   ],
   "source": [
    "np.sin(90)"
   ]
  },
  {
   "cell_type": "code",
   "execution_count": 35,
   "id": "7520a18b-d063-4106-b61f-cfc238ef56f0",
   "metadata": {},
   "outputs": [
    {
     "data": {
      "text/plain": [
       "1.0"
      ]
     },
     "execution_count": 35,
     "metadata": {},
     "output_type": "execute_result"
    }
   ],
   "source": [
    "import math as mt\n",
    "\n",
    "np.sin(mt.radians(90))"
   ]
  },
  {
   "cell_type": "code",
   "execution_count": null,
   "id": "42fa5e26-6c57-4aea-bd82-699d69933015",
   "metadata": {},
   "outputs": [],
   "source": []
  }
 ],
 "metadata": {
  "kernelspec": {
   "display_name": "Python 3",
   "language": "python",
   "name": "python3"
  },
  "language_info": {
   "codemirror_mode": {
    "name": "ipython",
    "version": 3
   },
   "file_extension": ".py",
   "mimetype": "text/x-python",
   "name": "python",
   "nbconvert_exporter": "python",
   "pygments_lexer": "ipython3",
   "version": "3.8.8"
  }
 },
 "nbformat": 4,
 "nbformat_minor": 5
}
